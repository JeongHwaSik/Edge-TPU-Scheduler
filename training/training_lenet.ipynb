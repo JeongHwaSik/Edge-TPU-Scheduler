{
 "cells": [
  {
   "cell_type": "code",
   "execution_count": 3,
   "id": "49ab3b11",
   "metadata": {},
   "outputs": [
    {
     "name": "stdout",
     "output_type": "stream",
     "text": [
      "train images shape:  (60000, 28, 28, 1)\n",
      "train labels shape:  (60000, 10)\n"
     ]
    }
   ],
   "source": [
    "import tensorflow as tf\n",
    "import numpy as np\n",
    "from tensorflow.keras import layers\n",
    "from tensorflow.keras.datasets import mnist\n",
    "from tensorflow.keras.utils import to_categorical\n",
    "\n",
    "# MNIST dataset\n",
    "# train: (60000, 28, 28)\n",
    "# train label: (60000,)\n",
    "# test: (10000, 28, 28)\n",
    "# test label: (10000,)\n",
    "mnist = mnist\n",
    "\n",
    "# load MNIST datset\n",
    "(train_images, train_labels), (test_images, test_labels) = mnist.load_data()\n",
    "\n",
    "train_images = train_images.reshape((60000, 28, 28, 1)) # (60000, 28, 28) -> (60000, 28, 28, 1)\n",
    "test_images = test_images.reshape((10000, 28, 28, 1)) # (10000, 28, 28) -> (10000, 28, 28, 1)\n",
    "\n",
    "train_labels = to_categorical(train_labels, 10) # (60000,) -> convert to one-hot vector -> (60000, 10)\n",
    "test_labels = to_categorical(test_labels, 10) # (60000,) -> convert to one-hot vector -> (60000, 10)\n",
    "\n",
    "# Normalize the pixels in 0.0~1.0 float\n",
    "train_images, test_images = train_images / 255.0, test_images / 255.0\n",
    "\n",
    "print(\"train images shape: \", train_images.shape)\n",
    "print(\"train labels shape: \", train_labels.shape)"
   ]
  },
  {
   "cell_type": "code",
   "execution_count": 4,
   "id": "c1dc8f34",
   "metadata": {},
   "outputs": [],
   "source": [
    "# LeNet Model\n",
    "# reference: \"Gradient-based learning applied to document recognition[Lecun et al.]\"\n",
    "class mnist_lenet(tf.keras.Model):\n",
    "    def __init__(self):\n",
    "        super(mnist_lenet, self).__init__()\n",
    "        self.conv1 = layers.Conv2D(filters=10, kernel_size=[3,3], input_shape = (28,28,1), activation= 'relu')\n",
    "        self.pool1 = layers.MaxPooling2D(2, 2)\n",
    "        self.conv2 = layers.Conv2D(filters=20, kernel_size=[3,3], activation= 'relu')\n",
    "        self.pool2 = layers.MaxPooling2D(2, 2)\n",
    "        self.conv3 = layers.Conv2D(filters=30, kernel_size=[3,3], activation= 'relu')\n",
    "        self.flat = layers.Flatten()\n",
    "        self.dense1 = layers.Dense(64, activation='relu')\n",
    "        self.dense2 = layers.Dense(10, activation='softmax')\n",
    "\n",
    "\n",
    "    def call(self, x):\n",
    "        net = self.conv1(x)\n",
    "        net = self.pool1(net)\n",
    "        net = self.conv2(net)\n",
    "        net = self.pool2(net)\n",
    "        net = self.conv3(net)\n",
    "        net = self.flat(net)\n",
    "        net = self.dense1(net)\n",
    "        net = self.dense2(net)\n",
    "        return net"
   ]
  },
  {
   "cell_type": "code",
   "execution_count": 5,
   "id": "bef7a74d",
   "metadata": {},
   "outputs": [
    {
     "name": "stdout",
     "output_type": "stream",
     "text": [
      "Epoch 1/5\n"
     ]
    },
    {
     "name": "stderr",
     "output_type": "stream",
     "text": [
      "2024-06-29 13:57:26.948807: W tensorflow/core/platform/profile_utils/cpu_utils.cc:128] Failed to get CPU frequency: 0 Hz\n"
     ]
    },
    {
     "name": "stdout",
     "output_type": "stream",
     "text": [
      "60000/60000 [==============================] - 61s 1ms/step - loss: 0.1298 - accuracy: 0.9601\n",
      "Epoch 2/5\n",
      "60000/60000 [==============================] - 62s 1ms/step - loss: 0.0727 - accuracy: 0.9801\n",
      "Epoch 3/5\n",
      "60000/60000 [==============================] - 61s 1ms/step - loss: 0.0677 - accuracy: 0.9813\n",
      "Epoch 4/5\n",
      "60000/60000 [==============================] - 60s 1ms/step - loss: 0.0685 - accuracy: 0.9822\n",
      "Epoch 5/5\n",
      "60000/60000 [==============================] - 61s 1ms/step - loss: 0.0647 - accuracy: 0.9836\n",
      "Model: \"mnist_lenet\"\n",
      "_________________________________________________________________\n",
      " Layer (type)                Output Shape              Param #   \n",
      "=================================================================\n",
      " conv2d (Conv2D)             multiple                  100       \n",
      "                                                                 \n",
      " max_pooling2d (MaxPooling2D  multiple                 0         \n",
      " )                                                               \n",
      "                                                                 \n",
      " conv2d_1 (Conv2D)           multiple                  1820      \n",
      "                                                                 \n",
      " max_pooling2d_1 (MaxPooling  multiple                 0         \n",
      " 2D)                                                             \n",
      "                                                                 \n",
      " conv2d_2 (Conv2D)           multiple                  5430      \n",
      "                                                                 \n",
      " flatten (Flatten)           multiple                  0         \n",
      "                                                                 \n",
      " dense (Dense)               multiple                  17344     \n",
      "                                                                 \n",
      " dense_1 (Dense)             multiple                  650       \n",
      "                                                                 \n",
      "=================================================================\n",
      "Total params: 25,344\n",
      "Trainable params: 25,344\n",
      "Non-trainable params: 0\n",
      "_________________________________________________________________\n"
     ]
    },
    {
     "name": "stderr",
     "output_type": "stream",
     "text": [
      "WARNING:absl:Found untraced functions such as _jit_compiled_convolution_op, _jit_compiled_convolution_op, _jit_compiled_convolution_op while saving (showing 3 of 3). These functions will not be directly callable after loading.\n"
     ]
    },
    {
     "name": "stdout",
     "output_type": "stream",
     "text": [
      "INFO:tensorflow:Assets written to: mnist_lenet/assets\n"
     ]
    },
    {
     "name": "stderr",
     "output_type": "stream",
     "text": [
      "INFO:tensorflow:Assets written to: mnist_lenet/assets\n"
     ]
    }
   ],
   "source": [
    "# Train & save model in frozen(.pb) format.\n",
    "my_model = mnist_lenet()\n",
    "my_model.compile(loss='categorical_crossentropy', optimizer='adam', metrics=['accuracy']) # learning configuration\n",
    "my_model.fit(train_images, train_labels, batch_size=1, epochs=5, verbose=1) # learning (forward & bacwkard)\n",
    "my_model.summary()\n",
    "my_model.save('mnist_lenet') # model file will be saved in the directory where you opened this .ipynb file"
   ]
  },
  {
   "cell_type": "code",
   "execution_count": 6,
   "id": "0787c567",
   "metadata": {},
   "outputs": [
    {
     "name": "stderr",
     "output_type": "stream",
     "text": [
      "2024-06-29 14:02:42.649243: W tensorflow/compiler/mlir/lite/python/tf_tfl_flatbuffer_helpers.cc:362] Ignored output_format.\n",
      "2024-06-29 14:02:42.649260: W tensorflow/compiler/mlir/lite/python/tf_tfl_flatbuffer_helpers.cc:365] Ignored drop_control_dependency.\n",
      "2024-06-29 14:02:42.651578: I tensorflow/cc/saved_model/reader.cc:45] Reading SavedModel from: ./mnist_lenet/\n",
      "2024-06-29 14:02:42.653953: I tensorflow/cc/saved_model/reader.cc:89] Reading meta graph with tags { serve }\n",
      "2024-06-29 14:02:42.653959: I tensorflow/cc/saved_model/reader.cc:130] Reading SavedModel debug info (if present) from: ./mnist_lenet/\n",
      "2024-06-29 14:02:42.657673: I tensorflow/compiler/mlir/mlir_graph_optimization_pass.cc:354] MLIR V1 optimization pass is not enabled\n",
      "2024-06-29 14:02:42.658543: I tensorflow/cc/saved_model/loader.cc:229] Restoring SavedModel bundle.\n",
      "2024-06-29 14:02:42.710723: I tensorflow/cc/saved_model/loader.cc:213] Running initialization op on SavedModel bundle at path: ./mnist_lenet/\n",
      "2024-06-29 14:02:42.720951: I tensorflow/cc/saved_model/loader.cc:305] SavedModel load for tags { serve }; Status: success: OK. Took 69642 microseconds.\n",
      "2024-06-29 14:02:42.752956: I tensorflow/compiler/mlir/tensorflow/utils/dump_mlir_util.cc:268] disabling MLIR crash reproducer, set env var `MLIR_CRASH_REPRODUCER_DIRECTORY` to enable.\n"
     ]
    }
   ],
   "source": [
    "# Load model and convert it for TensorFlow Lite (.tflite format)\n",
    "import tensorflow as tf\n",
    "import numpy as np\n",
    "\n",
    "model_path = './mnist_lenet/'\n",
    "converter = tf.lite.TFLiteConverter.from_saved_model(model_path)\n",
    "tflite_model = converter.convert()"
   ]
  },
  {
   "cell_type": "code",
   "execution_count": 7,
   "id": "a0c14fa6",
   "metadata": {},
   "outputs": [
    {
     "data": {
      "text/plain": [
       "105276"
      ]
     },
     "execution_count": 7,
     "metadata": {},
     "output_type": "execute_result"
    }
   ],
   "source": [
    "import pathlib\n",
    "\n",
    "# Create folder to save model.\n",
    "tflite_models_dir = pathlib.Path(\"./tflite_output/\")\n",
    "tflite_models_dir.mkdir(exist_ok=True, parents=True)\n",
    "\n",
    "# Save the unquantized/float model:\n",
    "tflite_model_file = tflite_models_dir/\"mnist_lenet.tflite\"\n",
    "tflite_model_file.write_bytes(tflite_model)"
   ]
  },
  {
   "cell_type": "code",
   "execution_count": 8,
   "id": "72ab3028",
   "metadata": {
    "scrolled": true
   },
   "outputs": [
    {
     "name": "stderr",
     "output_type": "stream",
     "text": [
      "2024-06-29 14:02:51.717847: W tensorflow/compiler/mlir/lite/python/tf_tfl_flatbuffer_helpers.cc:362] Ignored output_format.\n",
      "2024-06-29 14:02:51.717867: W tensorflow/compiler/mlir/lite/python/tf_tfl_flatbuffer_helpers.cc:365] Ignored drop_control_dependency.\n",
      "2024-06-29 14:02:51.717965: I tensorflow/cc/saved_model/reader.cc:45] Reading SavedModel from: ./mnist_lenet/\n",
      "2024-06-29 14:02:51.719297: I tensorflow/cc/saved_model/reader.cc:89] Reading meta graph with tags { serve }\n",
      "2024-06-29 14:02:51.719305: I tensorflow/cc/saved_model/reader.cc:130] Reading SavedModel debug info (if present) from: ./mnist_lenet/\n",
      "2024-06-29 14:02:51.722660: I tensorflow/cc/saved_model/loader.cc:229] Restoring SavedModel bundle.\n",
      "2024-06-29 14:02:51.768715: I tensorflow/cc/saved_model/loader.cc:213] Running initialization op on SavedModel bundle at path: ./mnist_lenet/\n",
      "2024-06-29 14:02:51.777397: I tensorflow/cc/saved_model/loader.cc:305] SavedModel load for tags { serve }; Status: success: OK. Took 59431 microseconds.\n",
      "INFO: Initialized TensorFlow Lite runtime.\n",
      "fully_quantize: 0, inference_type: 6, input_inference_type: FLOAT32, output_inference_type: FLOAT32\n"
     ]
    }
   ],
   "source": [
    "# For Edge TPU, must quntize the model in INT8 precision.\n",
    "\n",
    "# Get representative data set for post-quantization.\n",
    "# The representative data set prevents accuracy drop while quantization.\n",
    "def representative_data_gen():\n",
    "    for image in train_images[:1000]:  # Use a subset of the dataset\n",
    "        # Resize the image to the input shape of LeNet model\n",
    "        image = tf.image.resize(image, (28, 28))\n",
    "        image = np.expand_dims(image, axis=0)\n",
    "        yield [image]\n",
    "\n",
    "model_path = './mnist_lenet/'\n",
    "converter = tf.lite.TFLiteConverter.from_saved_model(model_path)\n",
    "converter.optimizations = [tf.lite.Optimize.DEFAULT]\n",
    "converter.representative_dataset = representative_data_gen\n",
    "converter.target_spec.supported_ops = [tf.lite.OpsSet.TFLITE_BUILTINS_INT8]\n",
    "tflite_model = converter.convert()"
   ]
  },
  {
   "cell_type": "code",
   "execution_count": 10,
   "id": "e897f149",
   "metadata": {},
   "outputs": [
    {
     "data": {
      "text/plain": [
       "32064"
      ]
     },
     "execution_count": 10,
     "metadata": {},
     "output_type": "execute_result"
    }
   ],
   "source": [
    "import pathlib\n",
    "\n",
    "# Create folder to save model.\n",
    "tflite_models_dir = pathlib.Path(\"./tflite_output/\")\n",
    "tflite_models_dir.mkdir(exist_ok=True, parents=True)\n",
    "\n",
    "# Save the unquantized/float model:\n",
    "tflite_model_file = tflite_models_dir/\"mnist_lenet_quant.tflite\"\n",
    "tflite_model_file.write_bytes(tflite_model)"
   ]
  }
 ],
 "metadata": {
  "kernelspec": {
   "display_name": "Python 3 (ipykernel)",
   "language": "python",
   "name": "python3"
  },
  "language_info": {
   "codemirror_mode": {
    "name": "ipython",
    "version": 3
   },
   "file_extension": ".py",
   "mimetype": "text/x-python",
   "name": "python",
   "nbconvert_exporter": "python",
   "pygments_lexer": "ipython3",
   "version": "3.10.0"
  }
 },
 "nbformat": 4,
 "nbformat_minor": 5
}
